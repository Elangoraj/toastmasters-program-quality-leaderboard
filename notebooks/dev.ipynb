{
 "cells": [
  {
   "cell_type": "code",
   "execution_count": 1,
   "metadata": {},
   "outputs": [],
   "source": [
    "import pandas as pd"
   ]
  },
  {
   "cell_type": "code",
   "execution_count": 2,
   "metadata": {},
   "outputs": [],
   "source": [
    "df = pd.read_csv('../data/Club_Performance.csv')"
   ]
  },
  {
   "cell_type": "code",
   "execution_count": null,
   "metadata": {},
   "outputs": [],
   "source": [
    "df"
   ]
  },
  {
   "cell_type": "code",
   "execution_count": null,
   "metadata": {},
   "outputs": [],
   "source": [
    "df.columns"
   ]
  },
  {
   "cell_type": "code",
   "execution_count": 5,
   "metadata": {},
   "outputs": [],
   "source": [
    "def calc_l1_points(row):\n",
    "    l1_count = min(row['Level 1s'], 4)\n",
    "    return l1_count * 100\n",
    "\n",
    "def calc_l2_points(row):\n",
    "    l2_total = row['Level 2s'] + row['Add. Level 2s']\n",
    "    l2_count = min(l2_total, 2)\n",
    "    return l2_count * 200\n",
    "\n",
    "def calc_l3_points(row):\n",
    "    l3_count = min(row['Level 3s'], 2)\n",
    "    return l3_count * 300\n",
    "\n",
    "def calc_l4_points(row):\n",
    "    return 400 if row['Level 4s, Path Completions, or DTM Awards'] >= 1 else 0\n",
    "\n",
    "def calc_l5_points(row):\n",
    "    return 500 if row['Add. Level 4s, Path Completions, or DTM award'] >= 1 else 0\n",
    "\n",
    "def calc_cot_r1_points(row):\n",
    "    return 200 if row['Off. Trained Round 1'] >= 7 else 0\n",
    "\n",
    "def calc_cot_r2_points(row):\n",
    "    return 200 if row['Off. Trained Round 2'] >= 7 else 0\n",
    "\n"
   ]
  },
  {
   "cell_type": "code",
   "execution_count": 6,
   "metadata": {},
   "outputs": [],
   "source": [
    "def assign_club_group(row):\n",
    "    members = row['Active Members']\n",
    "    if members < 12:\n",
    "        return 'Group 1'\n",
    "    elif 12 <= members <= 20:\n",
    "        return 'Group 2'\n",
    "    elif 21 <= members <= 40:\n",
    "        return 'Group 3'\n",
    "    elif 41 <= members <= 100:\n",
    "        return 'Group 4'\n",
    "    else:\n",
    "        return 'Unknown'\n"
   ]
  },
  {
   "cell_type": "code",
   "execution_count": 7,
   "metadata": {},
   "outputs": [],
   "source": [
    "# Apply group label\n",
    "df['Group'] = df.apply(assign_club_group, axis=1)\n",
    "\n",
    "# Optional: Add Name and Description as new columns\n",
    "group_meta = {\n",
    "    'Group 1': {\n",
    "        'Name': 'Spark Clubs',\n",
    "        'Description': 'Small but full of potential, these clubs are just igniting.'\n",
    "    },\n",
    "    'Group 2': {\n",
    "        'Name': 'Rising Stars',\n",
    "        'Description': 'Gaining traction, these clubs are building energy and cohesion.'\n",
    "    },\n",
    "    'Group 3': {\n",
    "        'Name': 'Powerhouse Clubs',\n",
    "        'Description': 'Well-established, these clubs thrive on teamwork and synergy.'\n",
    "    },\n",
    "    'Group 4': {\n",
    "        'Name': 'Pinnacle Clubs',\n",
    "        'Description': 'Large, vibrant clubs at the peak of influence and activity.'\n",
    "    },\n",
    "    'Unknown': {\n",
    "        'Name': 'Undefined',\n",
    "        'Description': 'Club size not in defined range.'\n",
    "    }\n",
    "}\n",
    "\n",
    "df['Group Name'] = df['Group'].map(lambda g: group_meta[g]['Name'])\n",
    "df['Group Description'] = df['Group'].map(lambda g: group_meta[g]['Description'])\n"
   ]
  },
  {
   "cell_type": "code",
   "execution_count": null,
   "metadata": {},
   "outputs": [],
   "source": [
    "df['L1 Points'] = df.apply(calc_l1_points, axis=1)\n",
    "df['L2 Points'] = df.apply(calc_l2_points, axis=1)\n",
    "df['L3 Points'] = df.apply(calc_l3_points, axis=1)\n",
    "df['L4 Points'] = df.apply(calc_l4_points, axis=1)\n",
    "df['L5 Points'] = df.apply(calc_l5_points, axis=1)\n",
    "df['COT R1 Points'] = df.apply(calc_cot_r1_points, axis=1)\n",
    "df['COT R2 Points'] = df.apply(calc_cot_r2_points, axis=1)\n",
    "df['Total COT Points'] = df['COT R1 Points'] + df['COT R2 Points']\n",
    "\n",
    "df['Total Club Points'] = df[['L1 Points', 'L2 Points', 'L3 Points', 'L4 Points', 'L5 Points', 'Total COT Points']].sum(axis=1)\n",
    "df"
   ]
  },
  {
   "cell_type": "code",
   "execution_count": null,
   "metadata": {},
   "outputs": [],
   "source": [
    "# Sort by Group and Total Club Points descending\n",
    "df_sorted = df.sort_values(['Group', 'Total Club Points'], ascending=[True, False]).copy()\n",
    "\n",
    "# Assign rank within each group\n",
    "df_sorted['Group Rank'] = df_sorted.groupby('Group')['Total Club Points'].rank(\n",
    "    method='dense', ascending=False\n",
    ").astype(int)\n",
    "\n",
    "\n",
    "top_5_by_group = df_sorted[df_sorted['Group Rank'] <= 5][[\n",
    "    'Group', 'Group Name', 'Club Name', 'Active Members', 'Total Club Points', 'Group Rank'\n",
    "]].reset_index(drop=True)\n",
    "\n",
    "top_5_by_group"
   ]
  },
  {
   "cell_type": "code",
   "execution_count": null,
   "metadata": {},
   "outputs": [],
   "source": []
  },
  {
   "cell_type": "code",
   "execution_count": null,
   "metadata": {},
   "outputs": [],
   "source": []
  },
  {
   "cell_type": "code",
   "execution_count": null,
   "metadata": {},
   "outputs": [],
   "source": []
  }
 ],
 "metadata": {
  "kernelspec": {
   "display_name": "toastmasters-app",
   "language": "python",
   "name": "python3"
  },
  "language_info": {
   "codemirror_mode": {
    "name": "ipython",
    "version": 3
   },
   "file_extension": ".py",
   "mimetype": "text/x-python",
   "name": "python",
   "nbconvert_exporter": "python",
   "pygments_lexer": "ipython3",
   "version": "3.11.13"
  }
 },
 "nbformat": 4,
 "nbformat_minor": 2
}
